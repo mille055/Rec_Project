{
  "cells": [
    {
      "cell_type": "markdown",
      "metadata": {
        "id": "view-in-github",
        "colab_type": "text"
      },
      "source": [
        "<a href=\"https://colab.research.google.com/github/mille055/Rec_Project/blob/main/notebooks/Get_text_embeddings.ipynb\" target=\"_parent\"><img src=\"https://colab.research.google.com/assets/colab-badge.svg\" alt=\"Open In Colab\"/></a>"
      ]
    },
    {
      "cell_type": "markdown",
      "metadata": {
        "id": "8glhZbJYm44L"
      },
      "source": [
        "# Sentence Transformers to embed text columns\n",
        "In this notebook we will embed the textual columns using document embeddings obtained using a pre-trained [Sentence Transformer](https://www.sbert.net) model.  SentenceTransformers is a framework for sentence / text embeddings which works particularly well for shorter text.  It was developed in 2019 and uses Siamese-BERT to develop semantically meaningful sentence embeddings which can be compared using cosine similarity.  You can use a [pretrained embedding model](https://www.sbert.net/docs/pretrained_models.html) or can train your own on a corpus.\n",
        "\n",
        "**References:**\n",
        "- [Sentence-BERT paper](https://arxiv.org/abs/1908.10084) by Reimers & Gurevych"
      ]
    },
    {
      "cell_type": "code",
      "execution_count": 1,
      "metadata": {
        "colab": {
          "base_uri": "https://localhost:8080/"
        },
        "id": "gM37lju3m44O",
        "outputId": "f0fbbe88-8e39-4cad-d852-03f975fb8375"
      },
      "outputs": [
        {
          "output_type": "stream",
          "name": "stdout",
          "text": [
            "Looking in indexes: https://pypi.org/simple, https://us-python.pkg.dev/colab-wheels/public/simple/\n",
            "Collecting sentence_transformers\n",
            "  Downloading sentence-transformers-2.2.2.tar.gz (85 kB)\n",
            "\u001b[2K     \u001b[90m━━━━━━━━━━━━━━━━━━━━━━━━━━━━━━━━━━━━━━━━\u001b[0m \u001b[32m86.0/86.0 KB\u001b[0m \u001b[31m2.4 MB/s\u001b[0m eta \u001b[36m0:00:00\u001b[0m\n",
            "\u001b[?25h  Preparing metadata (setup.py) ... \u001b[?25l\u001b[?25hdone\n",
            "Collecting transformers<5.0.0,>=4.6.0\n",
            "  Downloading transformers-4.27.4-py3-none-any.whl (6.8 MB)\n",
            "\u001b[2K     \u001b[90m━━━━━━━━━━━━━━━━━━━━━━━━━━━━━━━━━━━━━━━━\u001b[0m \u001b[32m6.8/6.8 MB\u001b[0m \u001b[31m56.5 MB/s\u001b[0m eta \u001b[36m0:00:00\u001b[0m\n",
            "\u001b[?25hRequirement already satisfied: tqdm in /usr/local/lib/python3.9/dist-packages (from sentence_transformers) (4.65.0)\n",
            "Requirement already satisfied: torch>=1.6.0 in /usr/local/lib/python3.9/dist-packages (from sentence_transformers) (2.0.0+cu118)\n",
            "Requirement already satisfied: torchvision in /usr/local/lib/python3.9/dist-packages (from sentence_transformers) (0.15.1+cu118)\n",
            "Requirement already satisfied: numpy in /usr/local/lib/python3.9/dist-packages (from sentence_transformers) (1.22.4)\n",
            "Requirement already satisfied: scikit-learn in /usr/local/lib/python3.9/dist-packages (from sentence_transformers) (1.2.2)\n",
            "Requirement already satisfied: scipy in /usr/local/lib/python3.9/dist-packages (from sentence_transformers) (1.10.1)\n",
            "Requirement already satisfied: nltk in /usr/local/lib/python3.9/dist-packages (from sentence_transformers) (3.8.1)\n",
            "Collecting sentencepiece\n",
            "  Downloading sentencepiece-0.1.97-cp39-cp39-manylinux_2_17_x86_64.manylinux2014_x86_64.whl (1.3 MB)\n",
            "\u001b[2K     \u001b[90m━━━━━━━━━━━━━━━━━━━━━━━━━━━━━━━━━━━━━━━━\u001b[0m \u001b[32m1.3/1.3 MB\u001b[0m \u001b[31m18.5 MB/s\u001b[0m eta \u001b[36m0:00:00\u001b[0m\n",
            "\u001b[?25hCollecting huggingface-hub>=0.4.0\n",
            "  Downloading huggingface_hub-0.13.4-py3-none-any.whl (200 kB)\n",
            "\u001b[2K     \u001b[90m━━━━━━━━━━━━━━━━━━━━━━━━━━━━━━━━━━━━━━━\u001b[0m \u001b[32m200.1/200.1 KB\u001b[0m \u001b[31m5.5 MB/s\u001b[0m eta \u001b[36m0:00:00\u001b[0m\n",
            "\u001b[?25hRequirement already satisfied: packaging>=20.9 in /usr/local/lib/python3.9/dist-packages (from huggingface-hub>=0.4.0->sentence_transformers) (23.0)\n",
            "Requirement already satisfied: filelock in /usr/local/lib/python3.9/dist-packages (from huggingface-hub>=0.4.0->sentence_transformers) (3.10.7)\n",
            "Requirement already satisfied: pyyaml>=5.1 in /usr/local/lib/python3.9/dist-packages (from huggingface-hub>=0.4.0->sentence_transformers) (6.0)\n",
            "Requirement already satisfied: typing-extensions>=3.7.4.3 in /usr/local/lib/python3.9/dist-packages (from huggingface-hub>=0.4.0->sentence_transformers) (4.5.0)\n",
            "Requirement already satisfied: requests in /usr/local/lib/python3.9/dist-packages (from huggingface-hub>=0.4.0->sentence_transformers) (2.27.1)\n",
            "Requirement already satisfied: triton==2.0.0 in /usr/local/lib/python3.9/dist-packages (from torch>=1.6.0->sentence_transformers) (2.0.0)\n",
            "Requirement already satisfied: networkx in /usr/local/lib/python3.9/dist-packages (from torch>=1.6.0->sentence_transformers) (3.0)\n",
            "Requirement already satisfied: jinja2 in /usr/local/lib/python3.9/dist-packages (from torch>=1.6.0->sentence_transformers) (3.1.2)\n",
            "Requirement already satisfied: sympy in /usr/local/lib/python3.9/dist-packages (from torch>=1.6.0->sentence_transformers) (1.11.1)\n",
            "Requirement already satisfied: lit in /usr/local/lib/python3.9/dist-packages (from triton==2.0.0->torch>=1.6.0->sentence_transformers) (16.0.0)\n",
            "Requirement already satisfied: cmake in /usr/local/lib/python3.9/dist-packages (from triton==2.0.0->torch>=1.6.0->sentence_transformers) (3.25.2)\n",
            "Requirement already satisfied: regex!=2019.12.17 in /usr/local/lib/python3.9/dist-packages (from transformers<5.0.0,>=4.6.0->sentence_transformers) (2022.10.31)\n",
            "Collecting tokenizers!=0.11.3,<0.14,>=0.11.1\n",
            "  Downloading tokenizers-0.13.3-cp39-cp39-manylinux_2_17_x86_64.manylinux2014_x86_64.whl (7.8 MB)\n",
            "\u001b[2K     \u001b[90m━━━━━━━━━━━━━━━━━━━━━━━━━━━━━━━━━━━━━━━━\u001b[0m \u001b[32m7.8/7.8 MB\u001b[0m \u001b[31m48.9 MB/s\u001b[0m eta \u001b[36m0:00:00\u001b[0m\n",
            "\u001b[?25hRequirement already satisfied: click in /usr/local/lib/python3.9/dist-packages (from nltk->sentence_transformers) (8.1.3)\n",
            "Requirement already satisfied: joblib in /usr/local/lib/python3.9/dist-packages (from nltk->sentence_transformers) (1.1.1)\n",
            "Requirement already satisfied: threadpoolctl>=2.0.0 in /usr/local/lib/python3.9/dist-packages (from scikit-learn->sentence_transformers) (3.1.0)\n",
            "Requirement already satisfied: pillow!=8.3.*,>=5.3.0 in /usr/local/lib/python3.9/dist-packages (from torchvision->sentence_transformers) (8.4.0)\n",
            "Requirement already satisfied: MarkupSafe>=2.0 in /usr/local/lib/python3.9/dist-packages (from jinja2->torch>=1.6.0->sentence_transformers) (2.1.2)\n",
            "Requirement already satisfied: charset-normalizer~=2.0.0 in /usr/local/lib/python3.9/dist-packages (from requests->huggingface-hub>=0.4.0->sentence_transformers) (2.0.12)\n",
            "Requirement already satisfied: idna<4,>=2.5 in /usr/local/lib/python3.9/dist-packages (from requests->huggingface-hub>=0.4.0->sentence_transformers) (3.4)\n",
            "Requirement already satisfied: urllib3<1.27,>=1.21.1 in /usr/local/lib/python3.9/dist-packages (from requests->huggingface-hub>=0.4.0->sentence_transformers) (1.26.15)\n",
            "Requirement already satisfied: certifi>=2017.4.17 in /usr/local/lib/python3.9/dist-packages (from requests->huggingface-hub>=0.4.0->sentence_transformers) (2022.12.7)\n",
            "Requirement already satisfied: mpmath>=0.19 in /usr/local/lib/python3.9/dist-packages (from sympy->torch>=1.6.0->sentence_transformers) (1.3.0)\n",
            "Building wheels for collected packages: sentence_transformers\n",
            "  Building wheel for sentence_transformers (setup.py) ... \u001b[?25l\u001b[?25hdone\n",
            "  Created wheel for sentence_transformers: filename=sentence_transformers-2.2.2-py3-none-any.whl size=125942 sha256=ffafe993e5084d16756f3625e7244e153bdb48c248a19f3821bd30b6e3189bd3\n",
            "  Stored in directory: /root/.cache/pip/wheels/71/67/06/162a3760c40d74dd40bc855d527008d26341c2b0ecf3e8e11f\n",
            "Successfully built sentence_transformers\n",
            "Installing collected packages: tokenizers, sentencepiece, huggingface-hub, transformers, sentence_transformers\n",
            "Successfully installed huggingface-hub-0.13.4 sentence_transformers-2.2.2 sentencepiece-0.1.97 tokenizers-0.13.3 transformers-4.27.4\n"
          ]
        }
      ],
      "source": [
        "import os\n",
        "import numpy as np\n",
        "import pandas as pd\n",
        "import string\n",
        "import time\n",
        "import urllib.request\n",
        "import zipfile\n",
        "import torch\n",
        "\n",
        "from sklearn.linear_model import LogisticRegression\n",
        "!pip install sentence_transformers\n",
        "from sentence_transformers import SentenceTransformer\n",
        "\n",
        "import warnings\n",
        "warnings.filterwarnings('ignore')\n",
        "\n",
        "device = torch.device(\"cuda\" if torch.cuda.is_available() else \"cpu\")"
      ]
    },
    {
      "cell_type": "markdown",
      "metadata": {
        "id": "KmcwQwFIm44P"
      },
      "source": [
        "## Download and prepare data"
      ]
    },
    {
      "cell_type": "code",
      "execution_count": 2,
      "metadata": {
        "colab": {
          "base_uri": "https://localhost:8080/"
        },
        "id": "rPF1ISIMm44Q",
        "outputId": "356f6b57-7a58-4b52-e4b0-2e23c66aa917"
      },
      "outputs": [
        {
          "output_type": "stream",
          "name": "stdout",
          "text": [
            "Cloning into 'Rec_Project'...\n",
            "remote: Enumerating objects: 263, done.\u001b[K\n",
            "remote: Counting objects: 100% (17/17), done.\u001b[K\n",
            "remote: Compressing objects: 100% (14/14), done.\u001b[K\n",
            "remote: Total 263 (delta 8), reused 7 (delta 3), pack-reused 246\u001b[K\n",
            "Receiving objects: 100% (263/263), 88.45 MiB | 16.17 MiB/s, done.\n",
            "Resolving deltas: 100% (129/129), done.\n",
            "Updating files: 100% (26/26), done.\n"
          ]
        }
      ],
      "source": [
        "# Download the data\n",
        "!git clone 'https://github.com/mille055/Rec_Project'"
      ]
    },
    {
      "cell_type": "code",
      "source": [
        "podcast_df = pd.read_pickle('/content/Rec_Project/data/podcast_df_040423.pkl')\n",
        "podcast_df"
      ],
      "metadata": {
        "colab": {
          "base_uri": "https://localhost:8080/",
          "height": 1000
        },
        "id": "dW21fgv5QwF5",
        "outputId": "c8a3d2d0-3fc7-4e6b-cb77-728f8e3e2b43"
      },
      "execution_count": 3,
      "outputs": [
        {
          "output_type": "execute_result",
          "data": {
            "text/plain": [
              "                                                    title           producer  \\\n",
              "0       One Strange Thing: Paranormal & True-Weird Mys...  One Strange Thing   \n",
              "1       One Strange Thing: Paranormal & True-Weird Mys...  One Strange Thing   \n",
              "2       One Strange Thing: Paranormal & True-Weird Mys...  One Strange Thing   \n",
              "3       One Strange Thing: Paranormal & True-Weird Mys...  One Strange Thing   \n",
              "4       One Strange Thing: Paranormal & True-Weird Mys...  One Strange Thing   \n",
              "...                                                   ...                ...   \n",
              "657194                              Quality Queen Control     Asha Christina   \n",
              "657195                              Quality Queen Control     Asha Christina   \n",
              "657196                              Quality Queen Control     Asha Christina   \n",
              "657197                              Quality Queen Control     Asha Christina   \n",
              "657198                              Quality Queen Control     Asha Christina   \n",
              "\n",
              "            genre                                        description  \\\n",
              "0         History  Paranormal, unexplainable, and uncanny stories...   \n",
              "1         History  Paranormal, unexplainable, and uncanny stories...   \n",
              "2         History  Paranormal, unexplainable, and uncanny stories...   \n",
              "3         History  Paranormal, unexplainable, and uncanny stories...   \n",
              "4         History  Paranormal, unexplainable, and uncanny stories...   \n",
              "...           ...                                                ...   \n",
              "657194  Education  Sophistication, Psychology, Dating, and Lifest...   \n",
              "657195  Education  Sophistication, Psychology, Dating, and Lifest...   \n",
              "657196  Education  Sophistication, Psychology, Dating, and Lifest...   \n",
              "657197  Education  Sophistication, Psychology, Dating, and Lifest...   \n",
              "657198  Education  Sophistication, Psychology, Dating, and Lifest...   \n",
              "\n",
              "        num_episodes  avg_rating  num_reviews  \\\n",
              "0                105         4.6        499.0   \n",
              "1                105         4.6        499.0   \n",
              "2                105         4.6        499.0   \n",
              "3                105         4.6        499.0   \n",
              "4                105         4.6        499.0   \n",
              "...              ...         ...          ...   \n",
              "657194           111         4.8        470.0   \n",
              "657195           111         4.8        470.0   \n",
              "657196           111         4.8        470.0   \n",
              "657197           111         4.8        470.0   \n",
              "657198           111         4.8        470.0   \n",
              "\n",
              "                                                     link  \\\n",
              "0       https://podcasts.apple.com/us/podcast/one-stra...   \n",
              "1       https://podcasts.apple.com/us/podcast/one-stra...   \n",
              "2       https://podcasts.apple.com/us/podcast/one-stra...   \n",
              "3       https://podcasts.apple.com/us/podcast/one-stra...   \n",
              "4       https://podcasts.apple.com/us/podcast/one-stra...   \n",
              "...                                                   ...   \n",
              "657194  https://podcasts.apple.com/us/podcast/quality-...   \n",
              "657195  https://podcasts.apple.com/us/podcast/quality-...   \n",
              "657196  https://podcasts.apple.com/us/podcast/quality-...   \n",
              "657197  https://podcasts.apple.com/us/podcast/quality-...   \n",
              "657198  https://podcasts.apple.com/us/podcast/quality-...   \n",
              "\n",
              "                                     episode_descriptions   itunes_id  rating  \\\n",
              "0       [In celebration of our new premium format—two ...  1526579247       5   \n",
              "1       [In celebration of our new premium format—two ...  1526579247       1   \n",
              "2       [In celebration of our new premium format—two ...  1526579247       5   \n",
              "3       [In celebration of our new premium format—two ...  1526579247       2   \n",
              "4       [In celebration of our new premium format—two ...  1526579247       4   \n",
              "...                                                   ...         ...     ...   \n",
              "657194  [Hey Angels!!! In today's episode of the Quali...  1512702672       5   \n",
              "657195  [Hey Angels!!! In today's episode of the Quali...  1512702672       5   \n",
              "657196  [Hey Angels!!! In today's episode of the Quali...  1512702672       5   \n",
              "657197  [Hey Angels!!! In today's episode of the Quali...  1512702672       5   \n",
              "657198  [Hey Angels!!! In today's episode of the Quali...  1512702672       5   \n",
              "\n",
              "                   user  \n",
              "0           RobinFerris  \n",
              "1               Pops.99  \n",
              "2             ReddEye81  \n",
              "3             Keyta7777  \n",
              "4              Okkupent  \n",
              "...                 ...  \n",
              "657194      Monijansand  \n",
              "657195   trinityangel13  \n",
              "657196        Kweenkeys  \n",
              "657197  JoyfulJoyfulWOG  \n",
              "657198      Dawn Melody  \n",
              "\n",
              "[46711 rows x 12 columns]"
            ],
            "text/html": [
              "\n",
              "  <div id=\"df-3c36351c-43f0-47de-a8fc-10fd1347f466\">\n",
              "    <div class=\"colab-df-container\">\n",
              "      <div>\n",
              "<style scoped>\n",
              "    .dataframe tbody tr th:only-of-type {\n",
              "        vertical-align: middle;\n",
              "    }\n",
              "\n",
              "    .dataframe tbody tr th {\n",
              "        vertical-align: top;\n",
              "    }\n",
              "\n",
              "    .dataframe thead th {\n",
              "        text-align: right;\n",
              "    }\n",
              "</style>\n",
              "<table border=\"1\" class=\"dataframe\">\n",
              "  <thead>\n",
              "    <tr style=\"text-align: right;\">\n",
              "      <th></th>\n",
              "      <th>title</th>\n",
              "      <th>producer</th>\n",
              "      <th>genre</th>\n",
              "      <th>description</th>\n",
              "      <th>num_episodes</th>\n",
              "      <th>avg_rating</th>\n",
              "      <th>num_reviews</th>\n",
              "      <th>link</th>\n",
              "      <th>episode_descriptions</th>\n",
              "      <th>itunes_id</th>\n",
              "      <th>rating</th>\n",
              "      <th>user</th>\n",
              "    </tr>\n",
              "  </thead>\n",
              "  <tbody>\n",
              "    <tr>\n",
              "      <th>0</th>\n",
              "      <td>One Strange Thing: Paranormal &amp; True-Weird Mys...</td>\n",
              "      <td>One Strange Thing</td>\n",
              "      <td>History</td>\n",
              "      <td>Paranormal, unexplainable, and uncanny stories...</td>\n",
              "      <td>105</td>\n",
              "      <td>4.6</td>\n",
              "      <td>499.0</td>\n",
              "      <td>https://podcasts.apple.com/us/podcast/one-stra...</td>\n",
              "      <td>[In celebration of our new premium format—two ...</td>\n",
              "      <td>1526579247</td>\n",
              "      <td>5</td>\n",
              "      <td>RobinFerris</td>\n",
              "    </tr>\n",
              "    <tr>\n",
              "      <th>1</th>\n",
              "      <td>One Strange Thing: Paranormal &amp; True-Weird Mys...</td>\n",
              "      <td>One Strange Thing</td>\n",
              "      <td>History</td>\n",
              "      <td>Paranormal, unexplainable, and uncanny stories...</td>\n",
              "      <td>105</td>\n",
              "      <td>4.6</td>\n",
              "      <td>499.0</td>\n",
              "      <td>https://podcasts.apple.com/us/podcast/one-stra...</td>\n",
              "      <td>[In celebration of our new premium format—two ...</td>\n",
              "      <td>1526579247</td>\n",
              "      <td>1</td>\n",
              "      <td>Pops.99</td>\n",
              "    </tr>\n",
              "    <tr>\n",
              "      <th>2</th>\n",
              "      <td>One Strange Thing: Paranormal &amp; True-Weird Mys...</td>\n",
              "      <td>One Strange Thing</td>\n",
              "      <td>History</td>\n",
              "      <td>Paranormal, unexplainable, and uncanny stories...</td>\n",
              "      <td>105</td>\n",
              "      <td>4.6</td>\n",
              "      <td>499.0</td>\n",
              "      <td>https://podcasts.apple.com/us/podcast/one-stra...</td>\n",
              "      <td>[In celebration of our new premium format—two ...</td>\n",
              "      <td>1526579247</td>\n",
              "      <td>5</td>\n",
              "      <td>ReddEye81</td>\n",
              "    </tr>\n",
              "    <tr>\n",
              "      <th>3</th>\n",
              "      <td>One Strange Thing: Paranormal &amp; True-Weird Mys...</td>\n",
              "      <td>One Strange Thing</td>\n",
              "      <td>History</td>\n",
              "      <td>Paranormal, unexplainable, and uncanny stories...</td>\n",
              "      <td>105</td>\n",
              "      <td>4.6</td>\n",
              "      <td>499.0</td>\n",
              "      <td>https://podcasts.apple.com/us/podcast/one-stra...</td>\n",
              "      <td>[In celebration of our new premium format—two ...</td>\n",
              "      <td>1526579247</td>\n",
              "      <td>2</td>\n",
              "      <td>Keyta7777</td>\n",
              "    </tr>\n",
              "    <tr>\n",
              "      <th>4</th>\n",
              "      <td>One Strange Thing: Paranormal &amp; True-Weird Mys...</td>\n",
              "      <td>One Strange Thing</td>\n",
              "      <td>History</td>\n",
              "      <td>Paranormal, unexplainable, and uncanny stories...</td>\n",
              "      <td>105</td>\n",
              "      <td>4.6</td>\n",
              "      <td>499.0</td>\n",
              "      <td>https://podcasts.apple.com/us/podcast/one-stra...</td>\n",
              "      <td>[In celebration of our new premium format—two ...</td>\n",
              "      <td>1526579247</td>\n",
              "      <td>4</td>\n",
              "      <td>Okkupent</td>\n",
              "    </tr>\n",
              "    <tr>\n",
              "      <th>...</th>\n",
              "      <td>...</td>\n",
              "      <td>...</td>\n",
              "      <td>...</td>\n",
              "      <td>...</td>\n",
              "      <td>...</td>\n",
              "      <td>...</td>\n",
              "      <td>...</td>\n",
              "      <td>...</td>\n",
              "      <td>...</td>\n",
              "      <td>...</td>\n",
              "      <td>...</td>\n",
              "      <td>...</td>\n",
              "    </tr>\n",
              "    <tr>\n",
              "      <th>657194</th>\n",
              "      <td>Quality Queen Control</td>\n",
              "      <td>Asha Christina</td>\n",
              "      <td>Education</td>\n",
              "      <td>Sophistication, Psychology, Dating, and Lifest...</td>\n",
              "      <td>111</td>\n",
              "      <td>4.8</td>\n",
              "      <td>470.0</td>\n",
              "      <td>https://podcasts.apple.com/us/podcast/quality-...</td>\n",
              "      <td>[Hey Angels!!! In today's episode of the Quali...</td>\n",
              "      <td>1512702672</td>\n",
              "      <td>5</td>\n",
              "      <td>Monijansand</td>\n",
              "    </tr>\n",
              "    <tr>\n",
              "      <th>657195</th>\n",
              "      <td>Quality Queen Control</td>\n",
              "      <td>Asha Christina</td>\n",
              "      <td>Education</td>\n",
              "      <td>Sophistication, Psychology, Dating, and Lifest...</td>\n",
              "      <td>111</td>\n",
              "      <td>4.8</td>\n",
              "      <td>470.0</td>\n",
              "      <td>https://podcasts.apple.com/us/podcast/quality-...</td>\n",
              "      <td>[Hey Angels!!! In today's episode of the Quali...</td>\n",
              "      <td>1512702672</td>\n",
              "      <td>5</td>\n",
              "      <td>trinityangel13</td>\n",
              "    </tr>\n",
              "    <tr>\n",
              "      <th>657196</th>\n",
              "      <td>Quality Queen Control</td>\n",
              "      <td>Asha Christina</td>\n",
              "      <td>Education</td>\n",
              "      <td>Sophistication, Psychology, Dating, and Lifest...</td>\n",
              "      <td>111</td>\n",
              "      <td>4.8</td>\n",
              "      <td>470.0</td>\n",
              "      <td>https://podcasts.apple.com/us/podcast/quality-...</td>\n",
              "      <td>[Hey Angels!!! In today's episode of the Quali...</td>\n",
              "      <td>1512702672</td>\n",
              "      <td>5</td>\n",
              "      <td>Kweenkeys</td>\n",
              "    </tr>\n",
              "    <tr>\n",
              "      <th>657197</th>\n",
              "      <td>Quality Queen Control</td>\n",
              "      <td>Asha Christina</td>\n",
              "      <td>Education</td>\n",
              "      <td>Sophistication, Psychology, Dating, and Lifest...</td>\n",
              "      <td>111</td>\n",
              "      <td>4.8</td>\n",
              "      <td>470.0</td>\n",
              "      <td>https://podcasts.apple.com/us/podcast/quality-...</td>\n",
              "      <td>[Hey Angels!!! In today's episode of the Quali...</td>\n",
              "      <td>1512702672</td>\n",
              "      <td>5</td>\n",
              "      <td>JoyfulJoyfulWOG</td>\n",
              "    </tr>\n",
              "    <tr>\n",
              "      <th>657198</th>\n",
              "      <td>Quality Queen Control</td>\n",
              "      <td>Asha Christina</td>\n",
              "      <td>Education</td>\n",
              "      <td>Sophistication, Psychology, Dating, and Lifest...</td>\n",
              "      <td>111</td>\n",
              "      <td>4.8</td>\n",
              "      <td>470.0</td>\n",
              "      <td>https://podcasts.apple.com/us/podcast/quality-...</td>\n",
              "      <td>[Hey Angels!!! In today's episode of the Quali...</td>\n",
              "      <td>1512702672</td>\n",
              "      <td>5</td>\n",
              "      <td>Dawn Melody</td>\n",
              "    </tr>\n",
              "  </tbody>\n",
              "</table>\n",
              "<p>46711 rows × 12 columns</p>\n",
              "</div>\n",
              "      <button class=\"colab-df-convert\" onclick=\"convertToInteractive('df-3c36351c-43f0-47de-a8fc-10fd1347f466')\"\n",
              "              title=\"Convert this dataframe to an interactive table.\"\n",
              "              style=\"display:none;\">\n",
              "        \n",
              "  <svg xmlns=\"http://www.w3.org/2000/svg\" height=\"24px\"viewBox=\"0 0 24 24\"\n",
              "       width=\"24px\">\n",
              "    <path d=\"M0 0h24v24H0V0z\" fill=\"none\"/>\n",
              "    <path d=\"M18.56 5.44l.94 2.06.94-2.06 2.06-.94-2.06-.94-.94-2.06-.94 2.06-2.06.94zm-11 1L8.5 8.5l.94-2.06 2.06-.94-2.06-.94L8.5 2.5l-.94 2.06-2.06.94zm10 10l.94 2.06.94-2.06 2.06-.94-2.06-.94-.94-2.06-.94 2.06-2.06.94z\"/><path d=\"M17.41 7.96l-1.37-1.37c-.4-.4-.92-.59-1.43-.59-.52 0-1.04.2-1.43.59L10.3 9.45l-7.72 7.72c-.78.78-.78 2.05 0 2.83L4 21.41c.39.39.9.59 1.41.59.51 0 1.02-.2 1.41-.59l7.78-7.78 2.81-2.81c.8-.78.8-2.07 0-2.86zM5.41 20L4 18.59l7.72-7.72 1.47 1.35L5.41 20z\"/>\n",
              "  </svg>\n",
              "      </button>\n",
              "      \n",
              "  <style>\n",
              "    .colab-df-container {\n",
              "      display:flex;\n",
              "      flex-wrap:wrap;\n",
              "      gap: 12px;\n",
              "    }\n",
              "\n",
              "    .colab-df-convert {\n",
              "      background-color: #E8F0FE;\n",
              "      border: none;\n",
              "      border-radius: 50%;\n",
              "      cursor: pointer;\n",
              "      display: none;\n",
              "      fill: #1967D2;\n",
              "      height: 32px;\n",
              "      padding: 0 0 0 0;\n",
              "      width: 32px;\n",
              "    }\n",
              "\n",
              "    .colab-df-convert:hover {\n",
              "      background-color: #E2EBFA;\n",
              "      box-shadow: 0px 1px 2px rgba(60, 64, 67, 0.3), 0px 1px 3px 1px rgba(60, 64, 67, 0.15);\n",
              "      fill: #174EA6;\n",
              "    }\n",
              "\n",
              "    [theme=dark] .colab-df-convert {\n",
              "      background-color: #3B4455;\n",
              "      fill: #D2E3FC;\n",
              "    }\n",
              "\n",
              "    [theme=dark] .colab-df-convert:hover {\n",
              "      background-color: #434B5C;\n",
              "      box-shadow: 0px 1px 3px 1px rgba(0, 0, 0, 0.15);\n",
              "      filter: drop-shadow(0px 1px 2px rgba(0, 0, 0, 0.3));\n",
              "      fill: #FFFFFF;\n",
              "    }\n",
              "  </style>\n",
              "\n",
              "      <script>\n",
              "        const buttonEl =\n",
              "          document.querySelector('#df-3c36351c-43f0-47de-a8fc-10fd1347f466 button.colab-df-convert');\n",
              "        buttonEl.style.display =\n",
              "          google.colab.kernel.accessAllowed ? 'block' : 'none';\n",
              "\n",
              "        async function convertToInteractive(key) {\n",
              "          const element = document.querySelector('#df-3c36351c-43f0-47de-a8fc-10fd1347f466');\n",
              "          const dataTable =\n",
              "            await google.colab.kernel.invokeFunction('convertToInteractive',\n",
              "                                                     [key], {});\n",
              "          if (!dataTable) return;\n",
              "\n",
              "          const docLinkHtml = 'Like what you see? Visit the ' +\n",
              "            '<a target=\"_blank\" href=https://colab.research.google.com/notebooks/data_table.ipynb>data table notebook</a>'\n",
              "            + ' to learn more about interactive tables.';\n",
              "          element.innerHTML = '';\n",
              "          dataTable['output_type'] = 'display_data';\n",
              "          await google.colab.output.renderOutput(dataTable, element);\n",
              "          const docLink = document.createElement('div');\n",
              "          docLink.innerHTML = docLinkHtml;\n",
              "          element.appendChild(docLink);\n",
              "        }\n",
              "      </script>\n",
              "    </div>\n",
              "  </div>\n",
              "  "
            ]
          },
          "metadata": {},
          "execution_count": 3
        }
      ]
    },
    {
      "cell_type": "code",
      "execution_count": 19,
      "metadata": {
        "colab": {
          "base_uri": "https://localhost:8080/"
        },
        "id": "xRb3dY56m44S",
        "outputId": "b33f31ba-3400-42e2-dcbb-68982bad3a69"
      },
      "outputs": [
        {
          "output_type": "stream",
          "name": "stdout",
          "text": [
            "Looking in indexes: https://pypi.org/simple, https://us-python.pkg.dev/colab-wheels/public/simple/\n",
            "Requirement already satisfied: unidecode in /usr/local/lib/python3.9/dist-packages (1.3.6)\n"
          ]
        }
      ],
      "source": [
        "## clean text from the episode_descriptions column\n",
        "!pip install unidecode\n",
        "import unidecode\n",
        "import sys\n",
        "sys.path.append('/content/Rec_Project/scripts')\n",
        "\n",
        "\n",
        "import clean_dataframe_text\n",
        "from clean_dataframe_text import join_and_clean_text, clean_text\n",
        "\n",
        "\n"
      ]
    },
    {
      "cell_type": "code",
      "source": [
        "### reducing the size of the dataframe prior to processing as do not need user ratings and userid for this\n",
        "\n",
        "#get rid of duplicates based on itunes_id and the embedding columns first\n",
        "  # Drop duplicate rows based on the list of columns\n",
        "df1= podcast_df.copy()\n",
        "cols_drop_dup = ['itunes_id']\n",
        "df_no_dups = df1.drop_duplicates(subset=cols_drop_dup)\n",
        "print('shape of new df without duplicates is ', df_no_dups.shape)\n",
        "print('removing user  and rating columns')\n",
        "df_no_dups.drop(columns=['user', 'rating'], inplace=True)\n",
        "\n"
      ],
      "metadata": {
        "colab": {
          "base_uri": "https://localhost:8080/"
        },
        "id": "_Tq_0BfOxBAz",
        "outputId": "076557fd-d833-43ed-a450-72a19ad3aef2"
      },
      "execution_count": 33,
      "outputs": [
        {
          "output_type": "stream",
          "name": "stdout",
          "text": [
            "shape of new df without duplicates is  (3936, 12)\n",
            "removing user  and rating columns\n"
          ]
        }
      ]
    },
    {
      "cell_type": "code",
      "source": [
        "podcast_cleaned_df = df_no_dups.copy()\n",
        "podcast_cleaned_df.episode_descriptions = podcast_cleaned_df.episode_descriptions.apply(join_and_clean_text)\n",
        "podcast_cleaned_df.description = podcast_cleaned_df.description.apply(clean_text)\n"
      ],
      "metadata": {
        "id": "iLMge983S1Y0"
      },
      "execution_count": 34,
      "outputs": []
    },
    {
      "cell_type": "code",
      "source": [
        "podcast_cleaned_df"
      ],
      "metadata": {
        "colab": {
          "base_uri": "https://localhost:8080/",
          "height": 1000
        },
        "id": "dfygYxrUt7SR",
        "outputId": "da37aba3-b415-43a2-c76f-10cdf4bbcb6b"
      },
      "execution_count": 35,
      "outputs": [
        {
          "output_type": "execute_result",
          "data": {
            "text/plain": [
              "                                                    title  \\\n",
              "0       One Strange Thing: Paranormal & True-Weird Mys...   \n",
              "100                                          BibleProject   \n",
              "200                           The Domonique Foxworth Show   \n",
              "300                                        Hacking Humans   \n",
              "400                                             Leader Up   \n",
              "...                                                   ...   \n",
              "656189                       Tales from the Stinky Dragon   \n",
              "656589                                  Morning Microdose   \n",
              "656989                                       Presidential   \n",
              "657089              Badlands Cola | A Strange Audio Drama   \n",
              "657189                              Quality Queen Control   \n",
              "\n",
              "                     producer                    genre  \\\n",
              "0           One Strange Thing                  History   \n",
              "100      BibleProject Podcast  Religion & Spirituality   \n",
              "200                      ESPN                   Sports   \n",
              "300            CyberWire Inc.               Technology   \n",
              "400                      AMSC               Government   \n",
              "...                       ...                      ...   \n",
              "656189          Rooster Teeth                  Leisure   \n",
              "656589              Almost 30                Education   \n",
              "656989  Washington Post Audio                  History   \n",
              "657089     Renee Taylor Klint                  Fiction   \n",
              "657189         Asha Christina                Education   \n",
              "\n",
              "                                              description  num_episodes  \\\n",
              "0       paranormal unexplainable and uncanny stories a...           105   \n",
              "100     the creators of bibleproject have indepth conv...           352   \n",
              "200     with episodes every tuesday and thursday durin...            70   \n",
              "300     deception influence and social engineering in ...           415   \n",
              "400     leader up a podcast by the army management sta...            52   \n",
              "...                                                   ...           ...   \n",
              "656189  a dampd podcast from rooster teeth our brave a...           101   \n",
              "656589  the fact that you came across morning microdos...           159   \n",
              "656989  the washington posts presidential podcast expl...            52   \n",
              "657089  badlands cola is a cinematic mysteryhorror aud...            17   \n",
              "657189  sophistication psychology dating and lifestyle...           111   \n",
              "\n",
              "        avg_rating  num_reviews  \\\n",
              "0              4.6        499.0   \n",
              "100            4.9      15000.0   \n",
              "200            4.9       1100.0   \n",
              "300            4.7        255.0   \n",
              "400            5.0         14.0   \n",
              "...            ...          ...   \n",
              "656189         4.9        781.0   \n",
              "656589         5.0        187.0   \n",
              "656989         4.4       3500.0   \n",
              "657089         4.6         63.0   \n",
              "657189         4.8        470.0   \n",
              "\n",
              "                                                     link  \\\n",
              "0       https://podcasts.apple.com/us/podcast/one-stra...   \n",
              "100     https://podcasts.apple.com/us/podcast/biblepro...   \n",
              "200     https://podcasts.apple.com/us/podcast/the-domo...   \n",
              "300     https://podcasts.apple.com/us/podcast/hacking-...   \n",
              "400     https://podcasts.apple.com/us/podcast/leader-u...   \n",
              "...                                                   ...   \n",
              "656189  https://podcasts.apple.com/us/podcast/tales-fr...   \n",
              "656589  https://podcasts.apple.com/us/podcast/morning-...   \n",
              "656989  https://podcasts.apple.com/us/podcast/presiden...   \n",
              "657089  https://podcasts.apple.com/us/podcast/badlands...   \n",
              "657189  https://podcasts.apple.com/us/podcast/quality-...   \n",
              "\n",
              "                                     episode_descriptions   itunes_id  \n",
              "0       in celebration of our new premium formattwo pr...  1526579247  \n",
              "100     david was israels greatest king but even he fa...  1050832450  \n",
              "200     domonique charlie and ashley foxworth along wi...  1642566714  \n",
              "300     kathleen smith cmo from clearedjobsnet sits do...  1391915810  \n",
              "400     mscs mr david howey meets with csm jason c por...  1378682853  \n",
              "...                                                   ...         ...  \n",
              "656189  with asafee on his deathbed the four chosen on...  1563814788  \n",
              "656589  drop in for this mindexpanding conversation wi...  1639123211  \n",
              "656989  students teachers and historians reflect on wh...  1072170823  \n",
              "657089  hi listeners its renee and today were doing so...  1627191206  \n",
              "657189  hey angels in todays episode of the quality qu...  1512702672  \n",
              "\n",
              "[3936 rows x 10 columns]"
            ],
            "text/html": [
              "\n",
              "  <div id=\"df-c83dadeb-4533-46e5-82fc-553c3b2f276a\">\n",
              "    <div class=\"colab-df-container\">\n",
              "      <div>\n",
              "<style scoped>\n",
              "    .dataframe tbody tr th:only-of-type {\n",
              "        vertical-align: middle;\n",
              "    }\n",
              "\n",
              "    .dataframe tbody tr th {\n",
              "        vertical-align: top;\n",
              "    }\n",
              "\n",
              "    .dataframe thead th {\n",
              "        text-align: right;\n",
              "    }\n",
              "</style>\n",
              "<table border=\"1\" class=\"dataframe\">\n",
              "  <thead>\n",
              "    <tr style=\"text-align: right;\">\n",
              "      <th></th>\n",
              "      <th>title</th>\n",
              "      <th>producer</th>\n",
              "      <th>genre</th>\n",
              "      <th>description</th>\n",
              "      <th>num_episodes</th>\n",
              "      <th>avg_rating</th>\n",
              "      <th>num_reviews</th>\n",
              "      <th>link</th>\n",
              "      <th>episode_descriptions</th>\n",
              "      <th>itunes_id</th>\n",
              "    </tr>\n",
              "  </thead>\n",
              "  <tbody>\n",
              "    <tr>\n",
              "      <th>0</th>\n",
              "      <td>One Strange Thing: Paranormal &amp; True-Weird Mys...</td>\n",
              "      <td>One Strange Thing</td>\n",
              "      <td>History</td>\n",
              "      <td>paranormal unexplainable and uncanny stories a...</td>\n",
              "      <td>105</td>\n",
              "      <td>4.6</td>\n",
              "      <td>499.0</td>\n",
              "      <td>https://podcasts.apple.com/us/podcast/one-stra...</td>\n",
              "      <td>in celebration of our new premium formattwo pr...</td>\n",
              "      <td>1526579247</td>\n",
              "    </tr>\n",
              "    <tr>\n",
              "      <th>100</th>\n",
              "      <td>BibleProject</td>\n",
              "      <td>BibleProject Podcast</td>\n",
              "      <td>Religion &amp; Spirituality</td>\n",
              "      <td>the creators of bibleproject have indepth conv...</td>\n",
              "      <td>352</td>\n",
              "      <td>4.9</td>\n",
              "      <td>15000.0</td>\n",
              "      <td>https://podcasts.apple.com/us/podcast/biblepro...</td>\n",
              "      <td>david was israels greatest king but even he fa...</td>\n",
              "      <td>1050832450</td>\n",
              "    </tr>\n",
              "    <tr>\n",
              "      <th>200</th>\n",
              "      <td>The Domonique Foxworth Show</td>\n",
              "      <td>ESPN</td>\n",
              "      <td>Sports</td>\n",
              "      <td>with episodes every tuesday and thursday durin...</td>\n",
              "      <td>70</td>\n",
              "      <td>4.9</td>\n",
              "      <td>1100.0</td>\n",
              "      <td>https://podcasts.apple.com/us/podcast/the-domo...</td>\n",
              "      <td>domonique charlie and ashley foxworth along wi...</td>\n",
              "      <td>1642566714</td>\n",
              "    </tr>\n",
              "    <tr>\n",
              "      <th>300</th>\n",
              "      <td>Hacking Humans</td>\n",
              "      <td>CyberWire Inc.</td>\n",
              "      <td>Technology</td>\n",
              "      <td>deception influence and social engineering in ...</td>\n",
              "      <td>415</td>\n",
              "      <td>4.7</td>\n",
              "      <td>255.0</td>\n",
              "      <td>https://podcasts.apple.com/us/podcast/hacking-...</td>\n",
              "      <td>kathleen smith cmo from clearedjobsnet sits do...</td>\n",
              "      <td>1391915810</td>\n",
              "    </tr>\n",
              "    <tr>\n",
              "      <th>400</th>\n",
              "      <td>Leader Up</td>\n",
              "      <td>AMSC</td>\n",
              "      <td>Government</td>\n",
              "      <td>leader up a podcast by the army management sta...</td>\n",
              "      <td>52</td>\n",
              "      <td>5.0</td>\n",
              "      <td>14.0</td>\n",
              "      <td>https://podcasts.apple.com/us/podcast/leader-u...</td>\n",
              "      <td>mscs mr david howey meets with csm jason c por...</td>\n",
              "      <td>1378682853</td>\n",
              "    </tr>\n",
              "    <tr>\n",
              "      <th>...</th>\n",
              "      <td>...</td>\n",
              "      <td>...</td>\n",
              "      <td>...</td>\n",
              "      <td>...</td>\n",
              "      <td>...</td>\n",
              "      <td>...</td>\n",
              "      <td>...</td>\n",
              "      <td>...</td>\n",
              "      <td>...</td>\n",
              "      <td>...</td>\n",
              "    </tr>\n",
              "    <tr>\n",
              "      <th>656189</th>\n",
              "      <td>Tales from the Stinky Dragon</td>\n",
              "      <td>Rooster Teeth</td>\n",
              "      <td>Leisure</td>\n",
              "      <td>a dampd podcast from rooster teeth our brave a...</td>\n",
              "      <td>101</td>\n",
              "      <td>4.9</td>\n",
              "      <td>781.0</td>\n",
              "      <td>https://podcasts.apple.com/us/podcast/tales-fr...</td>\n",
              "      <td>with asafee on his deathbed the four chosen on...</td>\n",
              "      <td>1563814788</td>\n",
              "    </tr>\n",
              "    <tr>\n",
              "      <th>656589</th>\n",
              "      <td>Morning Microdose</td>\n",
              "      <td>Almost 30</td>\n",
              "      <td>Education</td>\n",
              "      <td>the fact that you came across morning microdos...</td>\n",
              "      <td>159</td>\n",
              "      <td>5.0</td>\n",
              "      <td>187.0</td>\n",
              "      <td>https://podcasts.apple.com/us/podcast/morning-...</td>\n",
              "      <td>drop in for this mindexpanding conversation wi...</td>\n",
              "      <td>1639123211</td>\n",
              "    </tr>\n",
              "    <tr>\n",
              "      <th>656989</th>\n",
              "      <td>Presidential</td>\n",
              "      <td>Washington Post Audio</td>\n",
              "      <td>History</td>\n",
              "      <td>the washington posts presidential podcast expl...</td>\n",
              "      <td>52</td>\n",
              "      <td>4.4</td>\n",
              "      <td>3500.0</td>\n",
              "      <td>https://podcasts.apple.com/us/podcast/presiden...</td>\n",
              "      <td>students teachers and historians reflect on wh...</td>\n",
              "      <td>1072170823</td>\n",
              "    </tr>\n",
              "    <tr>\n",
              "      <th>657089</th>\n",
              "      <td>Badlands Cola | A Strange Audio Drama</td>\n",
              "      <td>Renee Taylor Klint</td>\n",
              "      <td>Fiction</td>\n",
              "      <td>badlands cola is a cinematic mysteryhorror aud...</td>\n",
              "      <td>17</td>\n",
              "      <td>4.6</td>\n",
              "      <td>63.0</td>\n",
              "      <td>https://podcasts.apple.com/us/podcast/badlands...</td>\n",
              "      <td>hi listeners its renee and today were doing so...</td>\n",
              "      <td>1627191206</td>\n",
              "    </tr>\n",
              "    <tr>\n",
              "      <th>657189</th>\n",
              "      <td>Quality Queen Control</td>\n",
              "      <td>Asha Christina</td>\n",
              "      <td>Education</td>\n",
              "      <td>sophistication psychology dating and lifestyle...</td>\n",
              "      <td>111</td>\n",
              "      <td>4.8</td>\n",
              "      <td>470.0</td>\n",
              "      <td>https://podcasts.apple.com/us/podcast/quality-...</td>\n",
              "      <td>hey angels in todays episode of the quality qu...</td>\n",
              "      <td>1512702672</td>\n",
              "    </tr>\n",
              "  </tbody>\n",
              "</table>\n",
              "<p>3936 rows × 10 columns</p>\n",
              "</div>\n",
              "      <button class=\"colab-df-convert\" onclick=\"convertToInteractive('df-c83dadeb-4533-46e5-82fc-553c3b2f276a')\"\n",
              "              title=\"Convert this dataframe to an interactive table.\"\n",
              "              style=\"display:none;\">\n",
              "        \n",
              "  <svg xmlns=\"http://www.w3.org/2000/svg\" height=\"24px\"viewBox=\"0 0 24 24\"\n",
              "       width=\"24px\">\n",
              "    <path d=\"M0 0h24v24H0V0z\" fill=\"none\"/>\n",
              "    <path d=\"M18.56 5.44l.94 2.06.94-2.06 2.06-.94-2.06-.94-.94-2.06-.94 2.06-2.06.94zm-11 1L8.5 8.5l.94-2.06 2.06-.94-2.06-.94L8.5 2.5l-.94 2.06-2.06.94zm10 10l.94 2.06.94-2.06 2.06-.94-2.06-.94-.94-2.06-.94 2.06-2.06.94z\"/><path d=\"M17.41 7.96l-1.37-1.37c-.4-.4-.92-.59-1.43-.59-.52 0-1.04.2-1.43.59L10.3 9.45l-7.72 7.72c-.78.78-.78 2.05 0 2.83L4 21.41c.39.39.9.59 1.41.59.51 0 1.02-.2 1.41-.59l7.78-7.78 2.81-2.81c.8-.78.8-2.07 0-2.86zM5.41 20L4 18.59l7.72-7.72 1.47 1.35L5.41 20z\"/>\n",
              "  </svg>\n",
              "      </button>\n",
              "      \n",
              "  <style>\n",
              "    .colab-df-container {\n",
              "      display:flex;\n",
              "      flex-wrap:wrap;\n",
              "      gap: 12px;\n",
              "    }\n",
              "\n",
              "    .colab-df-convert {\n",
              "      background-color: #E8F0FE;\n",
              "      border: none;\n",
              "      border-radius: 50%;\n",
              "      cursor: pointer;\n",
              "      display: none;\n",
              "      fill: #1967D2;\n",
              "      height: 32px;\n",
              "      padding: 0 0 0 0;\n",
              "      width: 32px;\n",
              "    }\n",
              "\n",
              "    .colab-df-convert:hover {\n",
              "      background-color: #E2EBFA;\n",
              "      box-shadow: 0px 1px 2px rgba(60, 64, 67, 0.3), 0px 1px 3px 1px rgba(60, 64, 67, 0.15);\n",
              "      fill: #174EA6;\n",
              "    }\n",
              "\n",
              "    [theme=dark] .colab-df-convert {\n",
              "      background-color: #3B4455;\n",
              "      fill: #D2E3FC;\n",
              "    }\n",
              "\n",
              "    [theme=dark] .colab-df-convert:hover {\n",
              "      background-color: #434B5C;\n",
              "      box-shadow: 0px 1px 3px 1px rgba(0, 0, 0, 0.15);\n",
              "      filter: drop-shadow(0px 1px 2px rgba(0, 0, 0, 0.3));\n",
              "      fill: #FFFFFF;\n",
              "    }\n",
              "  </style>\n",
              "\n",
              "      <script>\n",
              "        const buttonEl =\n",
              "          document.querySelector('#df-c83dadeb-4533-46e5-82fc-553c3b2f276a button.colab-df-convert');\n",
              "        buttonEl.style.display =\n",
              "          google.colab.kernel.accessAllowed ? 'block' : 'none';\n",
              "\n",
              "        async function convertToInteractive(key) {\n",
              "          const element = document.querySelector('#df-c83dadeb-4533-46e5-82fc-553c3b2f276a');\n",
              "          const dataTable =\n",
              "            await google.colab.kernel.invokeFunction('convertToInteractive',\n",
              "                                                     [key], {});\n",
              "          if (!dataTable) return;\n",
              "\n",
              "          const docLinkHtml = 'Like what you see? Visit the ' +\n",
              "            '<a target=\"_blank\" href=https://colab.research.google.com/notebooks/data_table.ipynb>data table notebook</a>'\n",
              "            + ' to learn more about interactive tables.';\n",
              "          element.innerHTML = '';\n",
              "          dataTable['output_type'] = 'display_data';\n",
              "          await google.colab.output.renderOutput(dataTable, element);\n",
              "          const docLink = document.createElement('div');\n",
              "          docLink.innerHTML = docLinkHtml;\n",
              "          element.appendChild(docLink);\n",
              "        }\n",
              "      </script>\n",
              "    </div>\n",
              "  </div>\n",
              "  "
            ]
          },
          "metadata": {},
          "execution_count": 35
        }
      ]
    },
    {
      "cell_type": "code",
      "source": [
        "podcast_cleaned_df.to_pickle('cleaned_df.pkl')"
      ],
      "metadata": {
        "id": "wctE3vXXT8JX"
      },
      "execution_count": 36,
      "outputs": []
    },
    {
      "cell_type": "markdown",
      "metadata": {
        "id": "r7mmGw3Gm44T"
      },
      "source": [
        "## Create document embeddings\n",
        "We will load a pre-trained model [('all-MiniLM-L6-v2')](https://huggingface.co/sentence-transformers/all-MiniLM-L6-v2) which we will then use to create embeddings for our training and test set text.  The MiniLM-L6-v2 model was trained on 1.1 billion sentence pairs to produce high-quality sentence / short document embeddings in 384 dimensions which can be used for example to calculate similarity between documents.  "
      ]
    },
    {
      "cell_type": "code",
      "execution_count": 37,
      "metadata": {
        "id": "KXjJ9WuNm44U"
      },
      "outputs": [],
      "source": [
        "# Load pre-trained model\n",
        "senttrans_model = SentenceTransformer('all-MiniLM-L6-v2',device=device)\n",
        "\n"
      ]
    },
    {
      "cell_type": "code",
      "source": [
        "# Create embeddings for columns description, episode descriptions, genre\n",
        "def embeddings_for_columns(df, cols):\n",
        "  df1 = df.copy()\n",
        "  \n",
        "  new_col_names = []\n",
        "  for col in cols:\n",
        "    print('Now embedding column', col)\n",
        "    col_data = df_no_dups[col].values.tolist()\n",
        "    col_embeds = [senttrans_model.encode(doc) for doc in col_data]\n",
        "    new_col_name = col + '_embedding'\n",
        "    df_no_dups[new_col_name] = col_embeds\n",
        "    new_col_names.append(new_col_name)\n",
        "\n",
        "  embeddings_df = df_no_dups[new_col_names]\n",
        "  embeddings_df['itunes_id'] = df1['itunes_id']\n",
        "\n",
        "  return df_no_dups, embeddings_df\n",
        "\n"
      ],
      "metadata": {
        "id": "aRIAZTXdVFW-"
      },
      "execution_count": 38,
      "outputs": []
    },
    {
      "cell_type": "code",
      "source": [
        "podcast_with_embeds, embeddings_only = embeddings_for_columns(podcast_cleaned_df, cols= ['description', 'genre','episode_descriptions'])\n"
      ],
      "metadata": {
        "colab": {
          "base_uri": "https://localhost:8080/"
        },
        "id": "VCV9De2EVId7",
        "outputId": "74567dd6-1d9d-471d-af54-7121fc19748c"
      },
      "execution_count": null,
      "outputs": [
        {
          "output_type": "stream",
          "name": "stdout",
          "text": [
            "Now embedding column description\n",
            "Now embedding column genre\n",
            "Now embedding column episode_descriptions\n"
          ]
        }
      ]
    },
    {
      "cell_type": "code",
      "source": [],
      "metadata": {
        "id": "TO1FtdO3j3il"
      },
      "execution_count": 15,
      "outputs": []
    },
    {
      "cell_type": "code",
      "source": [
        "podcast_with_embeds.episode_descriptions.tolist()[:3]"
      ],
      "metadata": {
        "colab": {
          "base_uri": "https://localhost:8080/"
        },
        "id": "iufKpFxwj_aL",
        "outputId": "8962b1d8-83a3-41aa-b75a-c1b9aacccbb7"
      },
      "execution_count": 18,
      "outputs": [
        {
          "output_type": "execute_result",
          "data": {
            "text/plain": [
              "['in celebration of our new premium formattwo premium episodes a month for both apple podcast premium subscribers and patreon subscribers starting april 2023we are sharing this premium episode with all listeners  the legend of kentuckys pope lick monster is inexorably tied to the train bridge it supposedly guardsbut what is the real danger the goatsheep cryptid or our human need to seek out danger   hosted by laurah norton  written by liv fallon  researched by jessica lee   produced and scriptedited by maura currie  engineered and scored by chaes gray   preorder laurahs book lay them to rest   butcherbox get free chicken nuggets for a year and 10 percent off your first box when you sign up today thats a 22 oz bag of glutenfree chicken nuggets in every order for a year when you sign up at butcherboxcomost and use code ost  join us on patreon for early release and adfree episodes exclusive stories and bonus episodes  find us on twitter  instagram   and facebook  interested in advertising on our show contact glassbox media   copyright one strange thing podcast llc 2023 learn more about your ad choices visit megaphonefmadchoices sports fans have superstitions   and believe in curses for japans hanshin tigers a huge win led to their biggest regret an alleged curse tied to an american fastfood icon   hosted written and researched by laurah norton  additional research by bryan worters produced and engineered by maura currie    trevor raichura the hanshin tigers english news  the hanshin tigers   ron jenkins  missing colonel sanders    the oklahoman 2009  na ap colonel sanders pulled   the salt lake city tribune 2009   ken belson japans tigers defy past   the international herald tribune 2003  na bass hopes soaked   the lawton constitution 2009  steven stark japans tigers dispel   the gazette 2003   na france press agency afp japan baseball fans    2009   staff japanese baseball fans hope   the guardian 2009  jim armstrong licking the colonel the national post 2009   na the curse of the colonel global post asia 2009  na twins draft hurler   the star tribune 1972  janice tay breaking the curse   the straits times 2009  na hanshin tigers japanball  robert siegel an end to   all things considered npr 2009 na baseball struggling tigers   agence france presse 2009 jay alabaster colonel sanders rescued   associated press international 2009   danglickman is this the end   baseball continuum 2014   jim armstrong long wait over   associated press international 2003 the gulf breeze ufo sightings are among the most infamous in us extraterrestrial canon floridian ed walters claimed that for six months ranging from late 1987 through the spring of 1988 he experienced a number of close encounters with aliens and their space crafts ones that he allegedly captured on film mufon investigators skeptics scientists and even the xfiles agent fox mulder have weighed in on eds story now we invite you to consider whether the gulf breeze sightings were one of the most remarkable instances of alien contact in history or simply an elaborate hoax   preorder laurahs book lay them to rest   butcherbox get free chicken nuggets for a year and 10 percent off your first box when you sign up today thats a 22 oz bag of glutenfree chicken nuggets in every order for a year when you sign up at butcherboxcomost and use code ost  listen to the dead files wherever you get your podcasts  hosted and written by laurah norton researched by laurah norton and bryan worters produced by maura currie engineered by brandon schexnayder   sources on our website   join us on patreon for early release and adfree episodes exclusive stories and bonus episodes  find us on twitter  instagram   and facebook  interested in advertising on our show contact glassbox media   copyright one strange thing podcast llc 2023 learn more about your ad choices visit megaphonefmadchoices south floridas coral castle is a marvel of human creativity talent and engineering  so much so that how exactly it came into being is a mystery but its also a monument to love and loss and some of the weirder corners of the human spirit pre order laurahs book lay them to rest   pick up where you left off to uncover new secrets or start your investigation today and download junes journey available on android and ios mobile devices as well as on pc through facebook games  hosted by laurah norton researched by bryan worters and maura currie produced written and engineered by maura currie  sources on our website   join us on patreon for early release and adfree episodes exclusive stories and bonus episodes  find us on twitter  instagram   and facebook  interested in advertising on our show contact glassbox media   copyright one strange thing podcast llc 2023 learn more about your ad choices visit megaphonefmadchoices introducing our podcast the fall line which focuses on cold cases that have not received enough attentiona clip from our recent threepart series on the case of chairo garibay on december 11th 2005 20yearold chairo disappeared shed planned on attending church with her family in olivehurst california but she never showed she was reported missing to the yuba county sheriff and both her family and law enforcement began a search that extended through christmas it would be five weeks before chairo was found though there would eventually be a 50000dollar reward authorized in chairos case no one has been arrested for her murder  pre order laurahs book lay them to rest  listen wherever you get podcasts  apple  spotify   written researched and hosted by laurah norton with research assistance from bryan worters kyana burgess and michaela morrillinterviews by brooke hargroveproduced scored and engineered by maura currietranslation by guadalupe lopezcontent advisors are brandy c williams liv fallon and vic kennedy theme music by rjrspecial thanks to angie dodd liz lipka and sarah turney  sources at our website   2023 all rights reserved the fall liner podcast llc learn more about your ad choices visit megaphonefmadchoices anyone plugged into the world of unexplained events and oddities is probably well aware of the max headroom broadcast hijacking but a story that weird is worth retelling  especially since almost 40 years later theres been no real progress in efforts to cccatch those involved   hosted by laurah norton  researched by bryan worters and maura currie produced written and engineered by maura currie     bishop bryan max headroom the definitive the verge 2015 wogan terry max headroom bbc1 1985 shull richard 20 minutes into future is past the times 1987 highlights in the history of cocacola library of congress nd  knittel chris the mystery of the creepiest motherboard 2013 video pirate briefly interrupts chicago tribune 1987  greene bob fame is fleeting to the mmmax chicago tribune 1987 masked max interrupts programming upi 1987 shefsky jay 30 years later notorious wttw news 2017  camper john amp daley steve a powerful video prankster chicago tribune 1987 buckman adam fcc sure is mad max advertising age 1987 the max headroom incident revisiting wbur 2019 pagano penny captain midnight enters plea los angeles times 1986 staff pornfilm message suspect los angeles times 1990 the max headroom chronicles wttw chicago  the max headroom pirating incident',\n",
              " 'david was israels greatest king but even he failed to live as gods anointed one when isaiah prophesied about the ultimate anointed one to come he said that not only would this deliverer come from the line of david but they would be a new david altogether what does this mean learn more in this episode as tim and jon discuss the theme of the anointed in the isaiah scroll israels first anointed king saul consistently makes choices that put him in conflict with god and the responsibilities god has entrusted to him this turns saul into the first antianointed oneor put another way the first antichrist in this episode tim and jon explore the theme of anointing in the stories of israels first two kings saul and david whats so special about oil why does the bible specify that oilnot water or winemust be used to anoint a person or place in this episode tim and jon continue discussing the biblical theme of anointing exploring why god designates oil to symbolically represent the lifegiving power of his spirit the title most often applied to jesus is the anointed onethats what the greek word christ means but what is the practice of anointing what does it signify and who gets anointed the practice of anointing people with oil is a theme we can trace throughout the entire story of the bible in this episode tim and jon start a brand new theme study all about anointing in our final episode of the firstborn series we look at the new testaments description of jesus as the firstborn of creation join tim and jon as they explore some of pauls letters the book of hebrews and the revelation and discover how jesus reveals who god isand what it means to be truly human too under levitical law touching anyone unclean would make you unclean too but when jesus touches people who are unclean they get healed and become clean insteadits like his holiness is contagious in this episode tim and jon talk about the way jesus uses his power and authority as the cosmic firstborn',\n",
              " 'domonique charlie and ashley foxworth along with the shows producers christina sara and adi play an intense game of sports taboo learn more about your ad choices visit megaphonefmadchoices domonique and charlie get into all the reasons why college basketball is failing but how this ncaa tournament is thriving then they get into the rules and restrictions surrounding college football players going pro learn more about your ad choices visit megaphonefmadchoices domonique and charlie discuss the issues surrounding the corporatization of college basketball then they get into who will win the nba finals learn more about your ad choices visit megaphonefmadchoices domonique and charlie get into several controversies involving athletes outside of their respective sport plus dom has a 12 year old intern who tells us what the kids think of ja morant then ashley foxworth joins the show for roses and thorns to recap the weekend and play trap taboo learn more about your ad choices visit megaphonefmadchoices domonique and charlie talk aaron rodgers wanting to play for the jets lamar jackson should play in washington the latest on ja morant and damian lillard is frustrated with the nba learn more about your ad choices visit megaphonefmadchoices domonique and charlie get into furry turd talk youll have to listen to understand after that were still waiting to hear from nfl certain free agents and college basketball is declining then ashley foxworth joins the show to talk about winning marriage arguments becoming a double date couple and losing the family cat learn more about your ad choices visit megaphonefmadchoices']"
            ]
          },
          "metadata": {},
          "execution_count": 18
        }
      ]
    },
    {
      "cell_type": "code",
      "source": [
        "podcast_with_embeds.to_pickle('podcast_base_with_embeds.pkl')"
      ],
      "metadata": {
        "id": "E2KMeEHrg0y7"
      },
      "execution_count": 55,
      "outputs": []
    },
    {
      "cell_type": "code",
      "source": [
        "embeddings_only.to_pickle('podcast_embeddings_only.pkl')"
      ],
      "metadata": {
        "id": "RbxmPJBQXStO"
      },
      "execution_count": 50,
      "outputs": []
    },
    {
      "cell_type": "code",
      "source": [
        "embeddings_only.columns"
      ],
      "metadata": {
        "colab": {
          "base_uri": "https://localhost:8080/"
        },
        "id": "MT09Kqd9Xpup",
        "outputId": "a937e96c-c96c-4473-a2b8-18ceade8d437"
      },
      "execution_count": 62,
      "outputs": [
        {
          "output_type": "execute_result",
          "data": {
            "text/plain": [
              "Index(['description_embedding', 'genre_embedding',\n",
              "       'episode_descriptions_embedding', 'itunes_id'],\n",
              "      dtype='object')"
            ]
          },
          "metadata": {},
          "execution_count": 62
        }
      ]
    },
    {
      "cell_type": "markdown",
      "metadata": {
        "id": "mXvjOrrWm44V"
      },
      "source": [
        "## Cosine similarity of the embeddings\n",
        "\n",
        "Finally, we will used our embeddings as features to train a softmax regression model to classify the documents."
      ]
    },
    {
      "cell_type": "code",
      "execution_count": 59,
      "metadata": {
        "id": "z4h9Pkzxm44W"
      },
      "outputs": [],
      "source": [
        "from sklearn.metrics.pairwise import cosine_similarity\n",
        "\n"
      ]
    },
    {
      "cell_type": "code",
      "source": [
        "combined_features = np.hstack(embeddings_only[['description_embedding', 'genre_embedding',\n",
        "       'episode_descriptions_embedding']].values)"
      ],
      "metadata": {
        "id": "mqmdV2xBo_SS"
      },
      "execution_count": 63,
      "outputs": []
    },
    {
      "cell_type": "code",
      "source": [
        "row = embeddings_only.iloc[0]\n",
        "conc = np.concatenate(row['description_embedding'], row['genre_embedding'])\n",
        "conc"
      ],
      "metadata": {
        "colab": {
          "base_uri": "https://localhost:8080/",
          "height": 249
        },
        "id": "5l1RYAGfqnst",
        "outputId": "e8a3ae8f-a0b1-4132-876e-3b02e9a25f3b"
      },
      "execution_count": 71,
      "outputs": [
        {
          "output_type": "error",
          "ename": "TypeError",
          "evalue": "ignored",
          "traceback": [
            "\u001b[0;31m---------------------------------------------------------------------------\u001b[0m",
            "\u001b[0;31mTypeError\u001b[0m                                 Traceback (most recent call last)",
            "\u001b[0;32m<ipython-input-71-224567912c16>\u001b[0m in \u001b[0;36m<cell line: 2>\u001b[0;34m()\u001b[0m\n\u001b[1;32m      1\u001b[0m \u001b[0mrow\u001b[0m \u001b[0;34m=\u001b[0m \u001b[0membeddings_only\u001b[0m\u001b[0;34m.\u001b[0m\u001b[0miloc\u001b[0m\u001b[0;34m[\u001b[0m\u001b[0;36m0\u001b[0m\u001b[0;34m]\u001b[0m\u001b[0;34m\u001b[0m\u001b[0;34m\u001b[0m\u001b[0m\n\u001b[0;32m----> 2\u001b[0;31m \u001b[0mconc\u001b[0m \u001b[0;34m=\u001b[0m \u001b[0mnp\u001b[0m\u001b[0;34m.\u001b[0m\u001b[0mconcatenate\u001b[0m\u001b[0;34m(\u001b[0m\u001b[0mrow\u001b[0m\u001b[0;34m[\u001b[0m\u001b[0;34m'description_embedding'\u001b[0m\u001b[0;34m]\u001b[0m\u001b[0;34m,\u001b[0m \u001b[0mrow\u001b[0m\u001b[0;34m[\u001b[0m\u001b[0;34m'genre_embedding'\u001b[0m\u001b[0;34m]\u001b[0m\u001b[0;34m)\u001b[0m\u001b[0;34m\u001b[0m\u001b[0;34m\u001b[0m\u001b[0m\n\u001b[0m\u001b[1;32m      3\u001b[0m \u001b[0mconc\u001b[0m\u001b[0;34m\u001b[0m\u001b[0;34m\u001b[0m\u001b[0m\n",
            "\u001b[0;32m/usr/local/lib/python3.9/dist-packages/numpy/core/overrides.py\u001b[0m in \u001b[0;36mconcatenate\u001b[0;34m(*args, **kwargs)\u001b[0m\n",
            "\u001b[0;31mTypeError\u001b[0m: only integer scalar arrays can be converted to a scalar index"
          ]
        }
      ]
    },
    {
      "cell_type": "code",
      "source": [
        "combined_features_all = np.array([np.concatenate(row['description_embedding', 'genre_embedding',\n",
        "       'episode_descriptions_embedding']) for row in embeddings_only.values])"
      ],
      "metadata": {
        "colab": {
          "base_uri": "https://localhost:8080/",
          "height": 300
        },
        "id": "cZfgHjzmqMf5",
        "outputId": "7a7accbe-dde0-4e3f-c203-71c66df87b67"
      },
      "execution_count": 66,
      "outputs": [
        {
          "output_type": "error",
          "ename": "IndexError",
          "evalue": "ignored",
          "traceback": [
            "\u001b[0;31m---------------------------------------------------------------------------\u001b[0m",
            "\u001b[0;31mIndexError\u001b[0m                                Traceback (most recent call last)",
            "\u001b[0;32m<ipython-input-66-b0a50ca22c18>\u001b[0m in \u001b[0;36m<cell line: 1>\u001b[0;34m()\u001b[0m\n\u001b[0;32m----> 1\u001b[0;31m combined_features_all = np.array([np.concatenate(row['description_embedding', 'genre_embedding',\n\u001b[0m\u001b[1;32m      2\u001b[0m        'episode_descriptions_embedding']) for row in embeddings_only.values])\n",
            "\u001b[0;32m<ipython-input-66-b0a50ca22c18>\u001b[0m in \u001b[0;36m<listcomp>\u001b[0;34m(.0)\u001b[0m\n\u001b[0;32m----> 1\u001b[0;31m combined_features_all = np.array([np.concatenate(row['description_embedding', 'genre_embedding',\n\u001b[0m\u001b[1;32m      2\u001b[0m        'episode_descriptions_embedding']) for row in embeddings_only.values])\n",
            "\u001b[0;31mIndexError\u001b[0m: only integers, slices (`:`), ellipsis (`...`), numpy.newaxis (`None`) and integer or boolean arrays are valid indices"
          ]
        }
      ]
    },
    {
      "cell_type": "code",
      "source": [
        "combined_features.shape"
      ],
      "metadata": {
        "colab": {
          "base_uri": "https://localhost:8080/"
        },
        "id": "BlUgHAUupc2-",
        "outputId": "d216a754-2aa9-4e97-ca7c-c1ec104e1b0c"
      },
      "execution_count": 65,
      "outputs": [
        {
          "output_type": "execute_result",
          "data": {
            "text/plain": [
              "(11808,)"
            ]
          },
          "metadata": {},
          "execution_count": 65
        }
      ]
    },
    {
      "cell_type": "markdown",
      "metadata": {
        "id": "i2dlajjum44W"
      },
      "source": [
        "## Evaluate model performance"
      ]
    },
    {
      "cell_type": "code",
      "execution_count": null,
      "metadata": {
        "colab": {
          "base_uri": "https://localhost:8080/"
        },
        "id": "DLA5ybaHm44X",
        "outputId": "a370b8c1-8064-489c-eb93-74e9ac043893"
      },
      "outputs": [
        {
          "name": "stdout",
          "output_type": "stream",
          "text": [
            "Accuracy on the test set is 0.896\n"
          ]
        }
      ],
      "source": []
    }
  ],
  "metadata": {
    "accelerator": "GPU",
    "colab": {
      "provenance": [],
      "include_colab_link": true
    },
    "kernelspec": {
      "display_name": "Python 3",
      "language": "python",
      "name": "python3"
    },
    "language_info": {
      "codemirror_mode": {
        "name": "ipython",
        "version": 3
      },
      "file_extension": ".py",
      "mimetype": "text/x-python",
      "name": "python",
      "nbconvert_exporter": "python",
      "pygments_lexer": "ipython3",
      "version": "3.9.7"
    }
  },
  "nbformat": 4,
  "nbformat_minor": 0
}