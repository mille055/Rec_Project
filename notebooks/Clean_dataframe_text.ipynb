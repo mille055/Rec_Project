{
  "nbformat": 4,
  "nbformat_minor": 0,
  "metadata": {
    "colab": {
      "provenance": [],
      "authorship_tag": "ABX9TyNrItf3Ixyac4eIEN9OSd2G",
      "include_colab_link": true
    },
    "kernelspec": {
      "name": "python3",
      "display_name": "Python 3"
    },
    "language_info": {
      "name": "python"
    }
  },
  "cells": [
    {
      "cell_type": "markdown",
      "metadata": {
        "id": "view-in-github",
        "colab_type": "text"
      },
      "source": [
        "<a href=\"https://colab.research.google.com/github/mille055/Rec_Project/blob/main/notebooks/Clean_dataframe_text.ipynb\" target=\"_parent\"><img src=\"https://colab.research.google.com/assets/colab-badge.svg\" alt=\"Open In Colab\"/></a>"
      ]
    },
    {
      "cell_type": "code",
      "execution_count": 1,
      "metadata": {
        "colab": {
          "base_uri": "https://localhost:8080/"
        },
        "id": "7rvrO-etUoWb",
        "outputId": "78d1d027-4fb1-44a2-b42c-d4c6c218d398"
      },
      "outputs": [
        {
          "output_type": "stream",
          "name": "stdout",
          "text": [
            "Looking in indexes: https://pypi.org/simple, https://us-python.pkg.dev/colab-wheels/public/simple/\n",
            "Collecting unidecode\n",
            "  Downloading Unidecode-1.3.6-py3-none-any.whl (235 kB)\n",
            "\u001b[2K     \u001b[90m━━━━━━━━━━━━━━━━━━━━━━━━━━━━━━━━━━━━━━━\u001b[0m \u001b[32m235.9/235.9 KB\u001b[0m \u001b[31m6.2 MB/s\u001b[0m eta \u001b[36m0:00:00\u001b[0m\n",
            "\u001b[?25hInstalling collected packages: unidecode\n",
            "Successfully installed unidecode-1.3.6\n"
          ]
        }
      ],
      "source": [
        "!pip install unidecode"
      ]
    },
    {
      "cell_type": "code",
      "source": [
        "from bs4 import BeautifulSoup\n",
        "import requests\n",
        "import json\n",
        "import unidecode\n",
        "import pandas as pd\n",
        "import numpy as np\n",
        "\n",
        "import json\n",
        "import re\n",
        "\n",
        "import time\n",
        "from tqdm import tqdm"
      ],
      "metadata": {
        "id": "iDbE-4XfUuof"
      },
      "execution_count": 2,
      "outputs": []
    },
    {
      "cell_type": "code",
      "source": [
        "!git clone 'https://github.com/mille055/Rec_Project.git'"
      ],
      "metadata": {
        "colab": {
          "base_uri": "https://localhost:8080/"
        },
        "id": "t2EMkBqdU2Dj",
        "outputId": "bd44ad37-94ac-4db6-b2a3-75ad0fe1fa31"
      },
      "execution_count": 3,
      "outputs": [
        {
          "output_type": "stream",
          "name": "stdout",
          "text": [
            "Cloning into 'Rec_Project'...\n",
            "remote: Enumerating objects: 206, done.\u001b[K\n",
            "remote: Counting objects: 100% (94/94), done.\u001b[K\n",
            "remote: Compressing objects: 100% (84/84), done.\u001b[K\n",
            "remote: Total 206 (delta 41), reused 42 (delta 10), pack-reused 112\u001b[K\n",
            "Receiving objects: 100% (206/206), 56.94 MiB | 23.99 MiB/s, done.\n",
            "Resolving deltas: 100% (98/98), done.\n"
          ]
        }
      ]
    },
    {
      "cell_type": "code",
      "source": [
        "import unidecode\n",
        "\n",
        "def convert_si_to_number(x):\n",
        "    total_stars = 0\n",
        "    if 'K' in x:\n",
        "        if len(x) > 1:\n",
        "            total_stars = float(x.replace('K', '')) * 1000  # convert K to a thousand\n",
        "    elif 'M' in x:\n",
        "        if len(x) > 1:\n",
        "            total_stars = float(x.replace('M', '')) * 1000000  # convert M to a million\n",
        "    elif 'B' in x:\n",
        "        total_stars = float(x.replace('B', '')) * 1000000000  # convert B to a Billion\n",
        "    else:\n",
        "        total_stars = int(x)  # Less than 1000\n",
        "    return int(total_stars)\n",
        "\n",
        "\n",
        "def clean_title(t):\n",
        "    t = unidecode.unidecode(t)\n",
        "    t = t.replace('\\n', ' ')\n",
        "    t = re.sub(r'[^\\w\\s]', '', t)\n",
        "    t = re.sub(r'\\d+', '', t)\n",
        "    t = t.lower()\n",
        "    t = t.strip()\n",
        "    return t\n",
        "\n",
        "def clean_description(d):\n",
        "    d = unidecode.unidecode(d)\n",
        "    d = d.replace('\\n', ' ')\n",
        "    d = re.sub(r'[^\\w\\s]', '', d)\n",
        "    d = re.sub(r'\\d+', '', d)\n",
        "    if re.findall(r'(.*) brought to you by.*', d):\n",
        "      d = re.sub(r'brought to you by.*', '', d)\n",
        "    if re.search(r'(.*) sponsored by.*', d):\n",
        "      d = re.sub(r'sponsored by.*', '', d)\n",
        "    d = d.lower()\n",
        "    d = d.strip()\n",
        "    \n",
        "    return d\n",
        "\n",
        "\n",
        "def clean_description_list(dlist):\n",
        "    \n",
        "    new_string = \"\"\n",
        "    for d in dlist:\n",
        "      d = unidecode.unidecode(d)\n",
        "      d = d.replace('\\n', ' ')\n",
        "      d = re.sub(r'[^\\w\\s]', '', d)\n",
        "      d = re.sub(r'\\d+', '', d)\n",
        "      if re.findall(r'(.*) brought to you by.*', d):\n",
        "        d = re.sub(r'brought to you by.*', '', d)\n",
        "      if re.search(r'(.*) sponsored by.*', d):\n",
        "        d = re.sub(r'sponsored by.*', '', d)\n",
        "      d = d.lower()\n",
        "      d = d.strip()\n",
        "      new_string = new_string + \" \" + d\n",
        "    return new_string\n",
        "\n",
        "\n",
        "def clean_text(text):\n",
        "    text = unidecode.unidecode(text)\n",
        "    text = text.replace('\\n', ' ')\n",
        "    # Remove URLs\n",
        "    text = re.sub(r'http\\S+|www\\S+|https\\S+', '', text, flags=re.MULTILINE)\n",
        "    \n",
        "    # Remove \"Sponsored by\" phrases\n",
        "    text = re.sub(r'(?i)sponsored\\sby\\s\\w+', '', text)\n",
        "    \n",
        "    # Remove special characters and symbols (excluding spaces)\n",
        "    text = re.sub(r'[^a-zA-Z0-9\\s]', '', text)\n",
        "    \n",
        "    return text\n"
      ],
      "metadata": {
        "id": "6s_KsYTQU6_d"
      },
      "execution_count": 4,
      "outputs": []
    },
    {
      "cell_type": "code",
      "source": [
        "myscraped = pd.read_pickle('/content/Rec_Project/data/podcasts_040423.pkl')"
      ],
      "metadata": {
        "id": "muA2yRO4VUMz"
      },
      "execution_count": null,
      "outputs": []
    },
    {
      "cell_type": "code",
      "source": [
        "### need to clean up the episode_description column\n",
        "example_to_clean = myscraped.iloc[0].episode_descriptions"
      ],
      "metadata": {
        "id": "5tT3IfnnVNPx"
      },
      "execution_count": null,
      "outputs": []
    }
  ]
}